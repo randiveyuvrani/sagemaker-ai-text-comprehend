{
 "cells": [
  {
   "cell_type": "code",
   "execution_count": 5,
   "id": "7a7a4064-f2de-4e3f-adb8-a5dbd8e9ea27",
   "metadata": {},
   "outputs": [
    {
     "name": "stderr",
     "output_type": "stream",
     "text": [
      "Processing images: 100%|██████████| 1/1 [00:01<00:00,  1.05s/it]\n"
     ]
    }
   ],
   "source": [
    "import os\n",
    "import boto3\n",
    "from tqdm import tqdm\n",
    "from PIL import Image\n",
    "\n",
    "def get_image_files(directory):\n",
    "    \"\"\"Get all jpg and png files in the given directory.\"\"\"\n",
    "    return [f for f in os.listdir(directory) if f.lower().endswith(('.jpg', '.png', '.jpeg'))]\n",
    "\n",
    "def should_process_file(file_path):\n",
    "    \"\"\"Check if the file should be processed (i.e., no corresponding txt file exists).\"\"\"\n",
    "    txt_path = os.path.splitext(file_path)[0] + '.txt'\n",
    "    return not os.path.exists(txt_path)\n",
    "\n",
    "def extract_text_from_image(image_path):\n",
    "    \"\"\"Extract text from the image using Amazon Textract.\"\"\"\n",
    "    textract_client = boto3.client('textract')\n",
    "    \n",
    "    with open(image_path, 'rb') as image:\n",
    "        response = textract_client.detect_document_text(Document={'Bytes': image.read()})\n",
    "    \n",
    "    extracted_text = []\n",
    "    for item in response['Blocks']:\n",
    "        if item['BlockType'] == 'LINE':\n",
    "            extracted_text.append(item['Text'])\n",
    "    \n",
    "    return '\\n'.join(extracted_text)\n",
    "\n",
    "def summarize_text(text):\n",
    "    \"\"\"Summarize the extracted text using Amazon Comprehend.\"\"\"\n",
    "    comprehend_client = boto3.client('comprehend')\n",
    "    \n",
    "    if len(text) > 5000:\n",
    "        text = text[:5000]  # Amazon Comprehend has a limit of 5000 bytes per document\n",
    "\n",
    "    key_phrases_response = comprehend_client.detect_key_phrases(Text=text, LanguageCode='en')\n",
    "    key_phrases = [phrase['Text'] for phrase in key_phrases_response['KeyPhrases']]\n",
    "\n",
    "    sentiment_response = comprehend_client.detect_sentiment(Text=text, LanguageCode='en')\n",
    "    sentiment = sentiment_response['Sentiment']\n",
    "\n",
    "    summary = \"Summary:\\n\" + '\\n'.join(key_phrases[:5])  # Limiting to top 5 key phrases\n",
    "    summary += f\"\\n\\nSentiment: {sentiment}\"\n",
    "\n",
    "    return summary\n",
    "\n",
    "def save_text_to_file(text, file_path):\n",
    "    \"\"\"Save the extracted text to a file.\"\"\"\n",
    "    txt_path = os.path.splitext(file_path)[0] + '.txt'\n",
    "    with open(txt_path, 'w', encoding='utf-8') as f:\n",
    "        f.write(text)\n",
    "\n",
    "def save_summary_to_file(summary, file_path):\n",
    "    \"\"\"Save the summary to a file with a '_summary' suffix.\"\"\"\n",
    "    summary_path = os.path.splitext(file_path)[0] + '_summary.txt'\n",
    "    with open(summary_path, 'w', encoding='utf-8') as f:\n",
    "        f.write(summary)\n",
    "\n",
    "def process_images_in_directory(directory):\n",
    "    \"\"\"Process all images in the given directory.\"\"\"\n",
    "    image_files = get_image_files(directory)\n",
    "    \n",
    "    for image_file in tqdm(image_files, desc=\"Processing images\"):\n",
    "        image_path = os.path.join(directory, image_file)\n",
    "        \n",
    "        if should_process_file(image_path):\n",
    "            extracted_text = extract_text_from_image(image_path)\n",
    "            save_text_to_file(extracted_text, image_path)\n",
    "            \n",
    "            summary = summarize_text(extracted_text)\n",
    "            save_summary_to_file(summary, image_path)\n",
    "\n",
    "# Usage in Jupyter notebook or standalone script\n",
    "directory = '.'  # Current directory\n",
    "process_images_in_directory(directory)"
   ]
  },
  {
   "cell_type": "code",
   "execution_count": null,
   "id": "b6d813da-7746-4672-8f77-7bc7fb706086",
   "metadata": {},
   "outputs": [],
   "source": []
  }
 ],
 "metadata": {
  "kernelspec": {
   "display_name": "conda_python3",
   "language": "python",
   "name": "conda_python3"
  },
  "language_info": {
   "codemirror_mode": {
    "name": "ipython",
    "version": 3
   },
   "file_extension": ".py",
   "mimetype": "text/x-python",
   "name": "python",
   "nbconvert_exporter": "python",
   "pygments_lexer": "ipython3",
   "version": "3.10.17"
  }
 },
 "nbformat": 4,
 "nbformat_minor": 5
}
